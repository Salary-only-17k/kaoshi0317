{
 "cells": [
  {
   "cell_type": "markdown",
   "id": "broad-directive",
   "metadata": {},
   "source": [
    "1.编写程序，处理矩阵。要求，输入一个1000x1000的方阵：判定如果x,y坐标都为偶数的元素，则对该元素做平方，否则该元素值减一。\n",
    "\n",
    "示例：  \n",
    "\n",
    "input：M[1000][1000] ，输出矩阵N[1000][1000]  \n",
    "\n",
    "判定：如果x为偶数且y为偶数，则：N[y][x]=M[y][x]\\*M[y][x]; 否则，N[y][x]=M[y][x]-1  (注意这里需要判断x,y是否越界）  \n",
    "\n",
    "output：N[1000][1000]\n",
    "\n",
    "\n"
   ]
  },
  {
   "cell_type": "markdown",
   "id": "possible-canal",
   "metadata": {},
   "source": [
    "2.利用CUDA编程模型，实现求包含1000000个元素的数组的最大的两个值。\n",
    "\n",
    "示例：\n",
    "\n",
    "input: input[1000000]  \n",
    "\n",
    "output: Max1: a; Max2: b\n"
   ]
  },
  {
   "cell_type": "markdown",
   "id": "helpful-adapter",
   "metadata": {},
   "source": [
    "3.利用CUDA加速矩阵转置操作，输入为一个1000x1000的方阵，输出为该方阵的转置矩阵。下图所示为一个3x3的矩阵的转置  \n",
    "要求：kernel函数要在输入矩阵的源存储空间内进行操作，**不得另外开辟一个存储空间作为输出矩阵。  \n",
    "可以：transpose<<< , >>>(in, in_width)  此时in为输入矩阵和输出矩阵\n",
    "\n",
    "不可以： transpose<<< , >>>(in, out, in_width)  此时in为输入矩阵, out为输出矩阵\n",
    "\n",
    "![matrix_T.png](matrix_T.jpg)  \n"
   ]
  },
  {
   "cell_type": "markdown",
   "id": "looking-memorial",
   "metadata": {},
   "source": [
    "#### 考试时间：9:00--12:00   \n",
    "\n",
    "#### 要求：  \n",
    "1. 每个程序都要输出CPU方法和GPU方法的输出对比结果，如果没有问题输出Pass。\n",
    "2. 每个程序都要输出GPU方法的时间结果，如：GPU：0.1ms；\n",
    "3. 每位同学请创建一个以自己名字命名的文件夹，并将完成上述题目的文件1.cu,2.cu,3.cu创建出来，编译，并执行。（注：必须完成编译，老师不会帮忙修改代码或重新编译）\n",
    "4. 老师会在同学们完成后，上机检查每一位同学的源代码，并执行可执行程序来给出最终成绩。\n",
    "5. 三道题都完成的同学，将通过考试并获得证书"
   ]
  },
  {
   "cell_type": "code",
   "execution_count": null,
   "id": "statutory-elizabeth",
   "metadata": {},
   "outputs": [],
   "source": []
  }
 ],
 "metadata": {
  "kernelspec": {
   "display_name": "Python 3",
   "language": "python",
   "name": "python3"
  },
  "language_info": {
   "codemirror_mode": {
    "name": "ipython",
    "version": 3
   },
   "file_extension": ".py",
   "mimetype": "text/x-python",
   "name": "python",
   "nbconvert_exporter": "python",
   "pygments_lexer": "ipython3",
   "version": "3.6.9"
  }
 },
 "nbformat": 4,
 "nbformat_minor": 5
}
